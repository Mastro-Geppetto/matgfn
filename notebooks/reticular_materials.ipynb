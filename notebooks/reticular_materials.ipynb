{
 "cells": [
  {
   "cell_type": "code",
   "execution_count": 1,
   "metadata": {},
   "outputs": [
    {
     "data": {
      "application/vnd.jupyter.widget-view+json": {
       "model_id": "73f3614a86474098aaa3343d4d09e695",
       "version_major": 2,
       "version_minor": 0
      },
      "text/plain": []
     },
     "metadata": {},
     "output_type": "display_data"
    }
   ],
   "source": [
    "# GFlowNet\n",
    "from matgfn.gflow.environments.sequence import SequenceEnvironment\n",
    "from matgfn.gflow.agent import TrajectoryBalanceGFlowNet\n",
    "from matgfn.gflow.flow_models.lstm import LSTM\n",
    "\n",
    "# MOF\n",
    "from matgfn.reticular import PormakeStructureBuilder\n",
    "import nglview as nv\n",
    "\n",
    "# Utils\n",
    "from tqdm import tqdm\n",
    "import math\n",
    "import subprocess\n",
    "import os\n",
    "import tempfile"
   ]
  },
  {
   "cell_type": "code",
   "execution_count": null,
   "metadata": {},
   "outputs": [],
   "source": [
    "builder = PormakeStructureBuilder(topology_string=\"ffc\", include_edges=True, block_rmsd_cutoff=0.1)\n",
    "cutoff = 5000\n",
    "print(f\"Number of potential materials with allowed building blocks: {math.prod([len(x) for x in builder.mask.forward_actions_at_each_slot]):,}\")"
   ]
  },
  {
   "cell_type": "code",
   "execution_count": null,
   "metadata": {},
   "outputs": [],
   "source": [
    "# Make a random material\n",
    "sequence = builder.random_sequence()\n",
    "structure =  builder.make_structure(sequence)\n",
    "\n",
    "# Visualise it with Pymatgen\n",
    "nv.show_pymatgen(structure)"
   ]
  },
  {
   "cell_type": "code",
   "execution_count": 7,
   "metadata": {},
   "outputs": [],
   "source": [
    "# Create reward using Zeo++\n",
    "class SurfaceAreaRewarder():\n",
    "    def __init__(self, builder, cutoff, temporary_dir = \"scratch\"):\n",
    "        self.builder = builder\n",
    "        self.cutoff = cutoff\n",
    "        self.temporary_dir = temporary_dir\n",
    "        os.makedirs(temporary_dir, exist_ok=True)\n",
    "\n",
    "    def reward(self, sequence):\n",
    "        with tempfile.NamedTemporaryFile(suffix=\".cif\", dir=self.temporary_dir, delete=True) as temp:\n",
    "            mof = builder.make_pormake_mof(sequence)\n",
    "            mof.write_cif(temp.name)\n",
    "\n",
    "            command=(['./network']  + ['-sa'] + ['1.525'] + ['1.525'] + ['2000'] + [temp.name])\n",
    "            subprocess.run(command,stdout = subprocess.DEVNULL)\n",
    "\n",
    "            output_filename = temp.name.removesuffix(\".cif\") + \".sa\"\n",
    "            \n",
    "            if os.path.exists(output_filename) == False:\n",
    "                output_reward = 0\n",
    "            else: \n",
    "                with open(output_filename) as result_file:\n",
    "                    lines=[] \n",
    "                    for line in result_file:\n",
    "                        lines.append(line.rstrip())\n",
    "\n",
    "                    # Zeo++ writes empty output file for sone non-physical MOFs. Reward them as 0.\n",
    "                    if len(lines)==0:\n",
    "                        output_reward = 0\n",
    "                    else:\n",
    "                        frags=lines[0].split()\n",
    "                        NASA=float(frags[17])\n",
    "                        ASA=float(frags[11])\n",
    "\n",
    "                        # Gravimetric surface area is NASA + ASA\n",
    "                        area = ASA + NASA\n",
    "\n",
    "                        output_reward = math.exp((area - cutoff) / cutoff)\n",
    "            \n",
    "                # Remove zeo++ output file\n",
    "                # Temp file will be removed by the surrounding \"with\"\n",
    "                os.remove(output_filename)            \n",
    "\n",
    "            return output_reward"
   ]
  },
  {
   "cell_type": "code",
   "execution_count": 13,
   "metadata": {},
   "outputs": [],
   "source": [
    "rewarder = SurfaceAreaRewarder(builder, cutoff = 5000, temporary_dir = \"scratch\")"
   ]
  },
  {
   "cell_type": "code",
   "execution_count": 21,
   "metadata": {},
   "outputs": [
    {
     "name": "stdout",
     "output_type": "stream",
     "text": [
      "['N87', 'N210', 'N19', 'E9', 'E161'] 1.3528858803607724\n"
     ]
    }
   ],
   "source": [
    "sequence = builder.random_sequence()\n",
    "print(sequence, rewarder.reward(sequence))"
   ]
  },
  {
   "cell_type": "code",
   "execution_count": 22,
   "metadata": {},
   "outputs": [],
   "source": [
    "env = SequenceEnvironment(\n",
    "    token_vocabulary = builder.token_vocabulary, \n",
    "    termination_token = builder.termination_token,\n",
    "    reward_function = lambda s: rewarder.reward(s),\n",
    "    render_function = None,\n",
    "    mask = builder.mask,\n",
    "    max_sequence_length = builder.n_slots, min_sequence_length = builder.n_slots\n",
    "    )\n",
    "\n",
    "flow_model = LSTM(token_vocabulary = builder.token_vocabulary, n_actions = env.action_space.n)\n",
    "agent = TrajectoryBalanceGFlowNet(env, flow_model)"
   ]
  },
  {
   "cell_type": "code",
   "execution_count": null,
   "metadata": {},
   "outputs": [],
   "source": [
    "agent.train(True)\n",
    "observations, infos, rewards, losses, logZs = agent.fit(learning_rate=5e-3, num_episodes=200, minibatch_size=5)"
   ]
  },
  {
   "cell_type": "code",
   "execution_count": null,
   "metadata": {},
   "outputs": [],
   "source": [
    "agent.eval()\n",
    "trained_observations = []\n",
    "\n",
    "for i in tqdm(range(0, 10)):\n",
    "    obs, info, reward, _ = agent.sample()\n",
    "    sequence = agent.env._sequence[:-1]\n",
    "    trained_observations.append([sequence, 0 if reward == 0 else math.log(reward) * cutoff + cutoff])"
   ]
  },
  {
   "cell_type": "code",
   "execution_count": null,
   "metadata": {},
   "outputs": [],
   "source": [
    "trained_observations"
   ]
  },
  {
   "cell_type": "code",
   "execution_count": null,
   "metadata": {},
   "outputs": [],
   "source": []
  }
 ],
 "metadata": {
  "kernelspec": {
   "display_name": "Python 3",
   "language": "python",
   "name": "python3"
  },
  "language_info": {
   "codemirror_mode": {
    "name": "ipython",
    "version": 3
   },
   "file_extension": ".py",
   "mimetype": "text/x-python",
   "name": "python",
   "nbconvert_exporter": "python",
   "pygments_lexer": "ipython3",
   "version": "3.11.0"
  },
  "orig_nbformat": 4
 },
 "nbformat": 4,
 "nbformat_minor": 2
}
